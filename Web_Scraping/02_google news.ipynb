{
 "cells": [
  {
   "cell_type": "markdown",
   "metadata": {},
   "source": [
    "# find를 이용하여 찾는경우 "
   ]
  },
  {
   "cell_type": "code",
   "execution_count": 10,
   "metadata": {},
   "outputs": [
    {
     "name": "stdout",
     "output_type": "stream",
     "text": [
      "https://news.google.com./articles/CBMiI2h0dHA6Ly93d3cuY2lva29yZWEuY29tL25ld3MvMTY2NjEw0gEA?hl=ko&gl=KR&ceid=KR%3Ako\n",
      "https://news.google.com./articles/CBMiK2h0dHBzOi8vemRuZXQuY28ua3Ivdmlldy8_bm89MjAyMDEwMDYxMTQ2MzbSAQA?hl=ko&gl=KR&ceid=KR%3Ako\n",
      "https://news.google.com./articles/CBMiMWh0dHBzOi8vd3d3LmNvZGluZ3dvcmxkbmV3cy5jb20vYXJ0aWNsZS92aWV3LzE1MzLSAQA?hl=ko&gl=KR&ceid=KR%3Ako\n"
     ]
    }
   ],
   "source": [
    "import requests\n",
    "from bs4 import BeautifulSoup\n",
    "\n",
    "base_url = \"https://news.google.com\"\n",
    "# https://news.google.com/search?q=%ED%8C%8C%EC%9D%B4%EC%8D%AC&hl=ko&gl=KR&ceid=KR%3Ako\n",
    "search_url = base_url + '/search?q=%ED%8C%8C%EC%9D%B4%EC%8D%AC&hl=ko&gl=KR&ceid=KR%3Ako'\n",
    "resp = requests.get(search_url)\n",
    "html_src = resp.text\n",
    "soup = BeautifulSoup(html_src,'html.parser')\n",
    "# print(soup)\n",
    "news_items=soup.select('div[class=\"xrnccd\"]')\n",
    "# print(len(news_items)) # 100\n",
    "#print(news_items)\n",
    "for item in news_items[:3]:\n",
    "    \n",
    "    #<a class=\"VDXfz\" jsname=\"hXwDdf\" jslog=\"95014; 5:W251bGwsbnVsbCxudWxsLG51bGwsbnVsbCxudWxsLG51bGwsbnVsbCwiaHR0cDovL3d3dy5jaW9rb3JlYS5jb20vbmV3cy8xNjY2MTAiLG51bGwsbnVsbCxbXV0=; track:click\" href=\"./articles/CBMiI2h0dHA6Ly93d3cuY2lva29yZWEuY29tL25ld3MvMTY2NjEw0gEA?hl=ko&amp;gl=KR&amp;ceid=KR%3Ako\" tabindex=\"-1\" target=\"_blank\" aria-hidden=\"true\"></a>\n",
    "    link = item.find('a',attrs={\"class\":\"VDXfz\"}).get('href')\n",
    "    news_link = base_url + link\n",
    "    print(news_link)"
   ]
  },
  {
   "cell_type": "markdown",
   "metadata": {},
   "source": [
    "# select()를 사용한 경우"
   ]
  },
  {
   "cell_type": "code",
   "execution_count": 39,
   "metadata": {},
   "outputs": [
    {
     "name": "stdout",
     "output_type": "stream",
     "text": [
      "./articles/CBMiI2h0dHA6Ly93d3cuY2lva29yZWEuY29tL25ld3MvMTY2NjEw0gEA?hl=ko&gl=KR&ceid=KR%3Ako\n",
      "https://news.google.com./articles/CBMiI2h0dHA6Ly93d3cuY2lva29yZWEuY29tL25ld3MvMTY2NjEw0gEA?hl=ko&gl=KR&ceid=KR%3Ako\n",
      "./articles/CBMiK2h0dHBzOi8vemRuZXQuY28ua3Ivdmlldy8_bm89MjAyMDEwMDYxMTQ2MzbSAQA?hl=ko&gl=KR&ceid=KR%3Ako\n",
      "https://news.google.com./articles/CBMiK2h0dHBzOi8vemRuZXQuY28ua3Ivdmlldy8_bm89MjAyMDEwMDYxMTQ2MzbSAQA?hl=ko&gl=KR&ceid=KR%3Ako\n",
      "./articles/CBMiMWh0dHBzOi8vd3d3LmNvZGluZ3dvcmxkbmV3cy5jb20vYXJ0aWNsZS92aWV3LzE1MzLSAQA?hl=ko&gl=KR&ceid=KR%3Ako\n",
      "https://news.google.com./articles/CBMiMWh0dHBzOi8vd3d3LmNvZGluZ3dvcmxkbmV3cy5jb20vYXJ0aWNsZS92aWV3LzE1MzLSAQA?hl=ko&gl=KR&ceid=KR%3Ako\n"
     ]
    }
   ],
   "source": [
    "for item in news_items[:3]:\n",
    "    link = item.select('a.VDXfz')\n",
    "    link = link[0].get('href')\n",
    "    print(link)\n",
    "    news_link = base_url + link\n",
    "    print(news_link)"
   ]
  },
  {
   "cell_type": "markdown",
   "metadata": {},
   "source": [
    "# title 찾기 "
   ]
  },
  {
   "cell_type": "code",
   "execution_count": 13,
   "metadata": {},
   "outputs": [
    {
     "name": "stdout",
     "output_type": "stream",
     "text": [
      "데이터 과학자들이 학습해야 할 프로그래밍 언어 5가지\n"
     ]
    }
   ],
   "source": [
    "#<a href=\"./articles/CBMiI2h0dHA6Ly93d3cuY2lva29yZWEuY29tL25ld3MvMTY2NjEw0gEA?hl=ko&amp;gl=KR&amp;ceid=KR%3Ako\" class=\"DY5T1d\">파이썬 초중급자를 위한 유무료 강좌 5선</a>\n",
    "news_title = item.find('a',attrs={\"class:\",\"DY5T1d\"}).getText()\n",
    "print(news_title)"
   ]
  },
  {
   "cell_type": "markdown",
   "metadata": {},
   "source": [
    "# content 찾기"
   ]
  },
  {
   "cell_type": "code",
   "execution_count": 21,
   "metadata": {},
   "outputs": [
    {
     "name": "stdout",
     "output_type": "stream",
     "text": [
      "기술의 발전과 함께 데이터 사용이 보편화됐다. 그와 동시에 데이터에서 정보를 추출하는 데이터 과학 분야도 인기를 얻기 시작했다. 그러나 데이터 과학은 데이터 ...\n"
     ]
    }
   ],
   "source": [
    "# <span class=\"xBbh9\">이제 막 파이썬을 배우기 시작했거나 머신러닝이나 웹 개발 심층연구를 하고 싶다면 아래의 유무료 강좌를 참고하면 좋다. 파이썬은 배우기도 쉽고 사용하기도 쉽다.</span>\n",
    "news_content = item.find('span',attrs={\"class:\",\"xBbh9\"}).getText()\n",
    "print(news_content)"
   ]
  },
  {
   "cell_type": "markdown",
   "metadata": {},
   "source": [
    "# agency "
   ]
  },
  {
   "cell_type": "code",
   "execution_count": 23,
   "metadata": {},
   "outputs": [
    {
     "name": "stdout",
     "output_type": "stream",
     "text": [
      "코딩월드뉴스\n"
     ]
    }
   ],
   "source": [
    "# <a class=\"wEwyrc AVN2gc uQIVzc Sksgp\">CIO Korea</a>\n",
    "news_agency = item.find('a',attrs={'class','wEwyrc AVN2gc uQIVzc Sksgp'}).getText()\n",
    "print(news_agency)"
   ]
  },
  {
   "cell_type": "markdown",
   "metadata": {},
   "source": [
    "# time"
   ]
  },
  {
   "cell_type": "code",
   "execution_count": 28,
   "metadata": {},
   "outputs": [
    {
     "name": "stdout",
     "output_type": "stream",
     "text": [
      "['2020-09-17', '07:00:00Z']\n",
      "2020-09-17 07:00:00Z\n"
     ]
    }
   ],
   "source": [
    "# <time class=\"WW6dff uQIVzc Sksgp\" datetime=\"2020-10-05T07:33:26Z\">어제</time>\n",
    "news_time = item.find('time',attrs={\"class\",\"WW6dff uQIVzc Sksgp\"})\n",
    "news_time_datetime = news_time.get('datetime').split('T')\n",
    "print(news_time_datetime)\n",
    "d = news_time_datetime[0]\n",
    "t = news_time_datetime[1]\n",
    "print(d,t)"
   ]
  },
  {
   "cell_type": "markdown",
   "metadata": {},
   "source": [
    " \n",
    " "
   ]
  },
  {
   "cell_type": "markdown",
   "metadata": {},
   "source": [
    "  "
   ]
  },
  {
   "cell_type": "code",
   "execution_count": 48,
   "metadata": {},
   "outputs": [
    {
     "name": "stdout",
     "output_type": "stream",
     "text": [
      "%ED%8C%8C%EC%9D%B4%EC%8D%AC\n",
      "검색어를 입력해주세요. 파이썬\n",
      "['https://news.google.com/articles/CBMiI2h0dHA6Ly93d3cuY2lva29yZWEuY29tL25ld3MvMTY2NjEw0gEA?hl=ko&gl=KR&ceid=KR%3Ako', 'https://news.google.com/articles/CBMiK2h0dHBzOi8vemRuZXQuY28ua3Ivdmlldy8_bm89MjAyMDEwMDYxMTQ2MzbSAQA?hl=ko&gl=KR&ceid=KR%3Ako']\n",
      "['CIO Korea', 'ZD넷 코리아']\n"
     ]
    }
   ],
   "source": [
    "import requests \n",
    "from bs4 import BeautifulSoup\n",
    "import urllib\n",
    "\n",
    "base_url = url = \"https://news.google.com\"\n",
    "# https://news.google.com/search?q=%ED%8C%8C%EC%9D%B4%EC%8D%AC&hl=ko&gl=KR&ceid=KR%3Ako\n",
    "keyword_input = \"파이썬\"\n",
    "keyword = urllib.parse.quote(keyword_input)\n",
    "print(keyword)\n",
    "\n",
    "def google_news_clipping_keyword(keyword_input, limit = 5):\n",
    "\n",
    "    \n",
    "    keyword = urllib.parse.quote(keyword_input)\n",
    "    search_url = base_url + \"/search?q=\" + keyword+ \"&hl=ko&gl=KR&ceid=KR%3Ako\"\n",
    "    resp = requests.get(search_url)\n",
    "    html_url = resp.text\n",
    "    soup = BeautifulSoup(html_url,'html.parser')\n",
    "    \n",
    "    news_items = soup.select('div[class=\"xrnccd\"]')\n",
    "    links = []; titles =[]; contents=[]; agencies=[]; dates=[]; times=[];\n",
    "    \n",
    "    for item in news_items[:limit]:\n",
    "        # <a class=\"VDXfz\" jsname=\"hXwDdf\" jslog=\"95014; 5:W251bGwsbnVsbCxudWxsLG51bGwsbnVsbCxudWxsLG51bGwsbnVsbCwiaHR0cDovL3d3dy5jaW9rb3JlYS5jb20vbmV3cy8xNjY2MTAiLG51bGwsbnVsbCxbXV0=; track:click\" href=\"./articles/CBMiI2h0dHA6Ly93d3cuY2lva29yZWEuY29tL25ld3MvMTY2NjEw0gEA?hl=ko&amp;gl=KR&amp;ceid=KR%3Ako\" tabindex=\"-1\" target=\"_blank\" aria-hidden=\"true\"></a>\n",
    "        link = item.find('a',attrs={\"class\",\"VDXfz\"}).get('href')\n",
    "        news_link =base_url+ link[1:]\n",
    "        links.append(news_link)\n",
    "        \n",
    "        news_title = item.find('a',attrs={\"class\",\"DY5T1d\"}).getText()\n",
    "        titles.append(news_title)\n",
    "\n",
    "        news_content = item.find(\"span\",attrs={\"class\",\"xBbh9\"}).getText()\n",
    "        contents.append(news_content)\n",
    "        \n",
    "        news_agency = item.find('a',attrs={\"class\",\"wEwyrc AVN2gc uQIVzc Sksgp\"}).getText()\n",
    "        agencies.append(news_agency)\n",
    "        \n",
    "        news_time = item.find('time',attrs={\"class\",\"WW6dff uQIVzc Sksgp\"}).get('datetime').split('T')\n",
    "        news_date = news_time[0]\n",
    "        news_date_time = news_time[1][:-1]\n",
    "        dates.append(news_date)\n",
    "        times.append(news_date_time)\n",
    "        \n",
    "    result = {'link':links, 'title':titles, 'contents':contents, 'agency':agencies, 'date':dates, 'times':times}\n",
    "    return result\n",
    "    \n",
    "\n",
    "search_word  = input(\"검색어를 입력해주세요. \")\n",
    "news = google_news_clipping_keyword(search_word,2)\n",
    "print(news['link'])\n",
    "print(news['agency'])"
   ]
  },
  {
   "cell_type": "code",
   "execution_count": null,
   "metadata": {},
   "outputs": [],
   "source": []
  },
  {
   "cell_type": "code",
   "execution_count": null,
   "metadata": {},
   "outputs": [],
   "source": []
  },
  {
   "cell_type": "code",
   "execution_count": null,
   "metadata": {},
   "outputs": [],
   "source": []
  },
  {
   "cell_type": "code",
   "execution_count": null,
   "metadata": {},
   "outputs": [],
   "source": []
  }
 ],
 "metadata": {
  "kernelspec": {
   "display_name": "Python 3",
   "language": "python",
   "name": "python3"
  },
  "language_info": {
   "codemirror_mode": {
    "name": "ipython",
    "version": 3
   },
   "file_extension": ".py",
   "mimetype": "text/x-python",
   "name": "python",
   "nbconvert_exporter": "python",
   "pygments_lexer": "ipython3",
   "version": "3.8.3"
  }
 },
 "nbformat": 4,
 "nbformat_minor": 4
}
