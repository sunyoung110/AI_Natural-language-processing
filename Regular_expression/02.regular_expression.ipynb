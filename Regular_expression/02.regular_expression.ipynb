{
 "cells": [
  {
   "cell_type": "markdown",
   "metadata": {},
   "source": [
    "### 제네레이터 (Generator, 발생자)\n"
   ]
  },
  {
   "cell_type": "code",
   "execution_count": 2,
   "metadata": {},
   "outputs": [
    {
     "name": "stdout",
     "output_type": "stream",
     "text": [
      "(200, 30)\n",
      "(2, 3)\n"
     ]
    }
   ],
   "source": [
    "# 기존의 함수 호출 방식은 함수가 호출될 때 인수들의 내부 변수들이\n",
    "# 새로운 영역(스택)에 만들어지고 반환시 메모리에서 소멸된다\n",
    "def f(a,b):\n",
    "    c = a * b\n",
    "    d = a + b\n",
    "    return c,d\n",
    "\n",
    "print(f(10,20))\n",
    "print(f(1,2))"
   ]
  },
  {
   "cell_type": "code",
   "execution_count": 5,
   "metadata": {},
   "outputs": [
    {
     "name": "stdout",
     "output_type": "stream",
     "text": [
      "<class 'generator'>\n",
      "1st step\n",
      "1\n"
     ]
    }
   ],
   "source": [
    "# 제네레이터는 중단된 시점부터 재 실행이 가능한 함수 \n",
    "# return 대신 키워드 yield 를 사용한다. \n",
    "def gen_func():\n",
    "    print('1st step')\n",
    "    yield 1\n",
    "    print('2nd step')\n",
    "    yield 2\n",
    "    print('3nd step')\n",
    "    yield 3\n",
    "    \n",
    "g = gen_func() # generator 객체\n",
    "print(type(g))\n",
    "\n",
    "a = next(g)  # next로 호출 # 최초 호출\n",
    "print(a)"
   ]
  },
  {
   "cell_type": "code",
   "execution_count": 6,
   "metadata": {},
   "outputs": [
    {
     "name": "stdout",
     "output_type": "stream",
     "text": [
      "2nd step\n",
      "2\n"
     ]
    }
   ],
   "source": [
    "b = next(g)\n",
    "print(b)"
   ]
  },
  {
   "cell_type": "code",
   "execution_count": 7,
   "metadata": {},
   "outputs": [
    {
     "name": "stdout",
     "output_type": "stream",
     "text": [
      "3nd step\n",
      "3\n"
     ]
    }
   ],
   "source": [
    "c = next(g)\n",
    "print(c)"
   ]
  },
  {
   "cell_type": "code",
   "execution_count": 8,
   "metadata": {},
   "outputs": [
    {
     "ename": "StopIteration",
     "evalue": "",
     "output_type": "error",
     "traceback": [
      "\u001b[1;31m---------------------------------------------------------------------------\u001b[0m",
      "\u001b[1;31mStopIteration\u001b[0m                             Traceback (most recent call last)",
      "\u001b[1;32m<ipython-input-8-a00d8a354b8d>\u001b[0m in \u001b[0;36m<module>\u001b[1;34m\u001b[0m\n\u001b[1;32m----> 1\u001b[1;33m \u001b[0md\u001b[0m \u001b[1;33m=\u001b[0m \u001b[0mnext\u001b[0m\u001b[1;33m(\u001b[0m\u001b[0mg\u001b[0m\u001b[1;33m)\u001b[0m\u001b[1;33m\u001b[0m\u001b[1;33m\u001b[0m\u001b[0m\n\u001b[0m\u001b[0;32m      2\u001b[0m \u001b[0mprint\u001b[0m\u001b[1;33m(\u001b[0m\u001b[0md\u001b[0m\u001b[1;33m)\u001b[0m\u001b[1;33m\u001b[0m\u001b[1;33m\u001b[0m\u001b[0m\n",
      "\u001b[1;31mStopIteration\u001b[0m: "
     ]
    }
   ],
   "source": [
    "d = next(g)\n",
    "print(d)  # 더 호출하면 error"
   ]
  },
  {
   "cell_type": "code",
   "execution_count": 9,
   "metadata": {},
   "outputs": [
    {
     "name": "stdout",
     "output_type": "stream",
     "text": [
      "0 1 2 3 4 5 6 7 8 9 <class 'generator'>\n"
     ]
    }
   ],
   "source": [
    "# generator 를 for 문으로 호출\n",
    "def generator_ints(N):\n",
    "    for k in range(N):\n",
    "        yield k\n",
    "        \n",
    "for k in generator_ints(10):\n",
    "    print(k,end=' ')\n",
    "    \n",
    "print(type(generator_ints(10))) #제네레이터는 반복자 객체이다. "
   ]
  },
  {
   "cell_type": "markdown",
   "metadata": {},
   "source": [
    "### 코루틴 (Coroutine)\n",
    ": 함수 실행에 있어서 어떤 위치에서 중단과 실행이 가능한 다중 진입점이 있는 일반화된 함수"
   ]
  },
  {
   "cell_type": "code",
   "execution_count": 10,
   "metadata": {},
   "outputs": [],
   "source": [
    "def echo():\n",
    "    print('echo routine')\n",
    "    while True:\n",
    "        msg = (yield)\n",
    "        print('echo:',msg)"
   ]
  },
  {
   "cell_type": "code",
   "execution_count": 11,
   "metadata": {},
   "outputs": [
    {
     "name": "stdout",
     "output_type": "stream",
     "text": [
      "<class 'generator'>\n",
      "echo routine\n"
     ]
    }
   ],
   "source": [
    "e = echo()\n",
    "print(type(e))\n",
    "next(e)"
   ]
  },
  {
   "cell_type": "code",
   "execution_count": 12,
   "metadata": {},
   "outputs": [
    {
     "name": "stdout",
     "output_type": "stream",
     "text": [
      "echo: None\n"
     ]
    }
   ],
   "source": [
    "next(e)"
   ]
  },
  {
   "cell_type": "code",
   "execution_count": 13,
   "metadata": {},
   "outputs": [
    {
     "name": "stdout",
     "output_type": "stream",
     "text": [
      "echo: Hello~\n"
     ]
    }
   ],
   "source": [
    "# 코루틴은 send를 보냄 \n",
    "e.send('Hello~')"
   ]
  },
  {
   "cell_type": "code",
   "execution_count": 14,
   "metadata": {},
   "outputs": [
    {
     "name": "stdout",
     "output_type": "stream",
     "text": [
      "echo: Bye~\n"
     ]
    }
   ],
   "source": [
    "e.send('Bye~')\n",
    "e.close()"
   ]
  },
  {
   "cell_type": "code",
   "execution_count": 15,
   "metadata": {},
   "outputs": [
    {
     "name": "stdout",
     "output_type": "stream",
     "text": [
      "<class 'generator'>\n"
     ]
    },
    {
     "data": {
      "text/plain": [
       "(1, 1)"
      ]
     },
     "execution_count": 15,
     "metadata": {},
     "output_type": "execute_result"
    }
   ],
   "source": [
    "# 양방향 값 전송 코루틴\n",
    "def accumulate(value= 0):\n",
    "    acc = value\n",
    "    while True:\n",
    "        value = (yield acc, value)\n",
    "        acc += value\n",
    "        \n",
    "acc = accumulate(1)\n",
    "print(type(acc))\n",
    "next(acc)"
   ]
  },
  {
   "cell_type": "code",
   "execution_count": 16,
   "metadata": {},
   "outputs": [
    {
     "data": {
      "text/plain": [
       "(3, 2)"
      ]
     },
     "execution_count": 16,
     "metadata": {},
     "output_type": "execute_result"
    }
   ],
   "source": [
    "acc.send(2) # 2를 value 에 전달해주고 다음 yield 문까지 진행, (3,2)를 반환받는다."
   ]
  },
  {
   "cell_type": "code",
   "execution_count": 17,
   "metadata": {},
   "outputs": [
    {
     "data": {
      "text/plain": [
       "(6, 3)"
      ]
     },
     "execution_count": 17,
     "metadata": {},
     "output_type": "execute_result"
    }
   ],
   "source": [
    "acc.send(3) # 3를 valude 에 전달해주고 (6,3)를 반환"
   ]
  },
  {
   "cell_type": "markdown",
   "metadata": {},
   "source": [
    "## (3) 미니 챗봇 구현"
   ]
  },
  {
   "cell_type": "code",
   "execution_count": 19,
   "metadata": {},
   "outputs": [
    {
     "data": {
      "text/plain": [
       "<re.Match object; span=(0, 10), match='Hello Rosa'>"
      ]
     },
     "execution_count": 19,
     "metadata": {},
     "output_type": "execute_result"
    }
   ],
   "source": [
    "import re\n",
    "r = \"(hi|hello|hey)[ ]*([a-z]*)\" #빈칸이 없거나 0번이상. \n",
    "re.match(r,'Hello Rosa',re.I) # re.i -> 대소문자 상관 안함."
   ]
  },
  {
   "cell_type": "code",
   "execution_count": 21,
   "metadata": {},
   "outputs": [
    {
     "data": {
      "text/plain": [
       "<re.Match object; span=(0, 5), match='hi ho'>"
      ]
     },
     "execution_count": 21,
     "metadata": {},
     "output_type": "execute_result"
    }
   ],
   "source": [
    "re.match(r,\"hi ho, my name is sunyoung\")"
   ]
  },
  {
   "cell_type": "code",
   "execution_count": 23,
   "metadata": {},
   "outputs": [
    {
     "data": {
      "text/plain": [
       "<re.Match object; span=(0, 3), match='hey'>"
      ]
     },
     "execution_count": 23,
     "metadata": {},
     "output_type": "execute_result"
    }
   ],
   "source": [
    "re.match(r,\"hey, what's up\", re.I) #쉼표 때문에"
   ]
  },
  {
   "cell_type": "code",
   "execution_count": 26,
   "metadata": {},
   "outputs": [],
   "source": [
    "# 정규 표현식을 더 확장\n",
    "r = r\"[^a-z]*([y]o|[h]?ello|ok|hey|(good[ ])?(morn[gin']{0,3}|afternoon|even[gin']{0,3}))[\\s,:;]{1,3}([a-z]{1,20})\"                                            \n",
    "re_greeting = re.compile(r,re.I)\n",
    "# r모드 , 처음에 문자가 아닌것이 0 개 이상으로 인사(1 hi)<- 숫자가 나와도 문제가 없게 \n",
    "# yo, oh, ?ello - > 안나오거나 0번. ello 도 가능, 근데 2번하면 틀림 ?는 0번,1번만 의미\n",
    "# ok, hey\n",
    "# good 은 good morning 등으로 한칸이 띄어지는 것으로 봄 ?<- good 어쩌고가 0번 또는 1번\n",
    "# gin'-> moring 이 나와도 되고 0에서 3번, mor 이런식으로도 써도 가능  morn 도 가능\n",
    "# [\\ㄴ,:;] -> hello; rosa가능, hellorosa이거는 안됨.\n",
    "# 20글자안에까지 이름 가능."
   ]
  },
  {
   "cell_type": "code",
   "execution_count": 27,
   "metadata": {},
   "outputs": [
    {
     "data": {
      "text/plain": [
       "<re.Match object; span=(0, 10), match='Hello Rosa'>"
      ]
     },
     "execution_count": 27,
     "metadata": {},
     "output_type": "execute_result"
    }
   ],
   "source": [
    "re_greeting.match(\"Hello Rosa\")"
   ]
  },
  {
   "cell_type": "code",
   "execution_count": 28,
   "metadata": {},
   "outputs": [
    {
     "data": {
      "text/plain": [
       "<re.Match object; span=(0, 17), match='Good Morning Rosa'>"
      ]
     },
     "execution_count": 28,
     "metadata": {},
     "output_type": "execute_result"
    }
   ],
   "source": [
    "re_greeting.match(\"Good Morning Rosa\")"
   ]
  },
  {
   "cell_type": "code",
   "execution_count": 29,
   "metadata": {},
   "outputs": [],
   "source": [
    "re_greeting.match(\"Good Marning Rosa\")"
   ]
  },
  {
   "cell_type": "code",
   "execution_count": 30,
   "metadata": {},
   "outputs": [
    {
     "data": {
      "text/plain": [
       "<re.Match object; span=(0, 17), match='Good Evening Rosa'>"
      ]
     },
     "execution_count": 30,
     "metadata": {},
     "output_type": "execute_result"
    }
   ],
   "source": [
    "re_greeting.match(\"Good Evening Rosa\")"
   ]
  },
  {
   "cell_type": "code",
   "execution_count": 33,
   "metadata": {},
   "outputs": [
    {
     "data": {
      "text/plain": [
       "'Good Evening'"
      ]
     },
     "execution_count": 33,
     "metadata": {},
     "output_type": "execute_result"
    }
   ],
   "source": [
    "re_greeting.match(\"Good Evening Rosa Parks\").group(1)"
   ]
  },
  {
   "cell_type": "code",
   "execution_count": 34,
   "metadata": {},
   "outputs": [
    {
     "data": {
      "text/plain": [
       "('Good Evening', 'Good ', 'Evening', 'Rosa')"
      ]
     },
     "execution_count": 34,
     "metadata": {},
     "output_type": "execute_result"
    }
   ],
   "source": [
    "re_greeting.match(\"Good Evening Rosa Parks\").groups()"
   ]
  },
  {
   "cell_type": "code",
   "execution_count": 35,
   "metadata": {},
   "outputs": [
    {
     "data": {
      "text/plain": [
       "<re.Match object; span=(0, 16), match=\"Good morn'n Rosa\">"
      ]
     },
     "execution_count": 35,
     "metadata": {},
     "output_type": "execute_result"
    }
   ],
   "source": [
    "re_greeting.match(\"Good morn'n Rosa\")"
   ]
  },
  {
   "cell_type": "code",
   "execution_count": 36,
   "metadata": {},
   "outputs": [
    {
     "data": {
      "text/plain": [
       "<re.Match object; span=(0, 7), match='yo Rosa'>"
      ]
     },
     "execution_count": 36,
     "metadata": {},
     "output_type": "execute_result"
    }
   ],
   "source": [
    "re_greeting.match(\"yo Rosa\")"
   ]
  },
  {
   "cell_type": "code",
   "execution_count": 37,
   "metadata": {},
   "outputs": [
    {
     "data": {
      "text/plain": [
       "<re.Match object; span=(0, 9), match='ello Rosa'>"
      ]
     },
     "execution_count": 37,
     "metadata": {},
     "output_type": "execute_result"
    }
   ],
   "source": [
    "re_greeting.match(\"ello Rosa\")"
   ]
  },
  {
   "cell_type": "code",
   "execution_count": 38,
   "metadata": {},
   "outputs": [],
   "source": [
    "re_greeting.match(\"hellohello Rosa\")"
   ]
  },
  {
   "cell_type": "code",
   "execution_count": 40,
   "metadata": {},
   "outputs": [
    {
     "name": "stdout",
     "output_type": "stream",
     "text": [
      "hello guy\n",
      "Um... Have a good time.\n"
     ]
    }
   ],
   "source": [
    "# Chatbot\n",
    "r = r\"[^a-z]*([y]o|[h]?ello|ok|hey|(good[ ])?(morn[gin']{0,3}|afternoon|even[gin']{0,3}))[\\s,:;]{1,3}([a-z]{1,20})\"                                            \n",
    "re_greeting = re.compile(r,re.I)\n",
    "\n",
    "my_names = set(['rosa','rose','chatty','chatbot','bot','chatterbot','baby']) # 좋은 단어\n",
    "curt_names = set(['hal','you','u','guy','boy']) #무뚝뚝한 단어\n",
    "greeter_name ='선영' # 대화 상대자 (사람)\n",
    "\n",
    "match = re_greeting.match(input()) # 'Hello Rosa'\n",
    "\n",
    "if match :\n",
    "    at_name = match.groups()[-1] # 4개 그룹중 마지막 그룹\n",
    "    if at_name in curt_names:\n",
    "        print('Um... Have a good time.')\n",
    "    elif at_name.lower() in my_names:\n",
    "        print('Hi {}, How are you? Glad to see you.'.format(greeter_name))"
   ]
  },
  {
   "cell_type": "markdown",
   "metadata": {},
   "source": [
    "## Chat test"
   ]
  },
  {
   "cell_type": "code",
   "execution_count": 41,
   "metadata": {},
   "outputs": [],
   "source": [
    "# evil_names 목록을 넣어 대화에 사용하면 화를 내는 코드를 간단히 추가하고 동작을 확인 해보세요\n",
    "# 영어 대답 아래에 동일한 한국어 대답도 출력하게 해보세요\n",
    "# while True를 사용하여 match가 없을 때 종료하도록 수정하세요\n",
    "# evil_names : set(['idiot','fool','ass','sob'])\n",
    "# 대화가 시작되었습니다!\n",
    "# ----------------------------------------------------------------------\n",
    "# 길동 : Hello Rosa\n",
    "# 컴퓨터 : Hi 길동, How are you? Glad to see you.\n",
    "# 컴퓨터 : 길동씨 안녕하세요,만나서 반갑습니다\n",
    "# ----------------------------------------------------------------------\n",
    "# 길동 : Hi you\n",
    "# 컴퓨터 : Um.. Have a good time.\n",
    "# 컴퓨터 : 음.. 즐거운 시간 되세요.\n",
    "# ----------------------------------------------------------------------\n",
    "# 길동 : Hey idiot\n",
    "# 컴퓨터 : Dear 길동 please, don't talk to me like that : idiot. \n",
    "# 컴퓨터 : 길동아! 제발 그런말 쓰지마! : idiot. \n",
    "# ----------------------------------------------------------------------\n",
    "# 길동 : Bye\n",
    "# 대화가 종료되었습니다!"
   ]
  },
  {
   "cell_type": "code",
   "execution_count": 67,
   "metadata": {},
   "outputs": [
    {
     "name": "stdout",
     "output_type": "stream",
     "text": [
      "hey idiot\n",
      "Dear 선영 please, dont't talk to me like that : idiot\n",
      "선영아! 제발 그런말 쓰지마 : idiot\n"
     ]
    }
   ],
   "source": [
    "# Chatbot\n",
    "r = r\"[^a-z]*([y]o|[h]?ello|ok|hi|hey|(good[ ])?(morn[gin']{0,3}|afternoon|even[gin']{0,3}))[\\s,:;]{1,3}([a-z]{1,20})\"                                            \n",
    "re_greeting = re.compile(r,re.I)\n",
    "\n",
    "my_names = set(['rosa','rose','chatty','chatbot','bot','chatterbot','baby']) # 좋은 단어\n",
    "curt_names = set(['hal','you','u','guy','boy']) #무뚝뚝한 단어\n",
    "evil_names = set(['idiot','fool','ass','sob'])\n",
    "greeter_name ='선영' # 대화 상대자 (사람)\n",
    "\n",
    "match = re_greeting.match(input()) # 'Hello Rosa'\n",
    "\n",
    "while True:\n",
    "    if match :\n",
    "        at_name = match.groups()[-1] # 4개 그룹중 마지막 그룹\n",
    "        if at_name in curt_names:\n",
    "            print('Um... Have a good time.')\n",
    "            print(\"음... 즐거운 시간 되세요\")\n",
    "        elif at_name in my_names:\n",
    "            print('Hi {}, How are you? Glad to see you.'.format(greeter_name))\n",
    "            print('{}씨 안녕하세요. 만나서 반갑습니다.'.format(greeter_name))\n",
    "        elif at_name in evil_names:\n",
    "            print(\"Dear {0} please, dont't talk to me like that : {1}\".format(greeter_name, at_name))\n",
    "            print(\"{0}아! 제발 그런말 쓰지마 : {1}\".format(greeter_name, at_name))\n",
    "        break\n",
    "    else:\n",
    "        print(\"대화가 종료되었습니다.\")\n",
    "        break\n",
    "    \n",
    "   \n",
    "    "
   ]
  },
  {
   "cell_type": "markdown",
   "metadata": {},
   "source": [
    "# re.compile"
   ]
  },
  {
   "cell_type": "code",
   "execution_count": 71,
   "metadata": {},
   "outputs": [
    {
     "name": "stdout",
     "output_type": "stream",
     "text": [
      "하이퍼링크의 갯수: 963\n",
      "첫 3개의 원소: [<a id=\"top\"></a>, <a class=\"mw-jump-link\" href=\"#mw-head\">Jump to navigation</a>, <a class=\"mw-jump-link\" href=\"#searchInput\">Jump to search</a>]\n",
      "\n",
      "\n",
      "[<a class=\"image\" href=\"/wiki/File:South_Korea_subway_logo.svg\"><img alt=\"South Korea subway logo.svg\" data-file-height=\"450\" data-file-width=\"450\" decoding=\"async\" height=\"75\" src=\"//upload.wikimedia.org/wikipedia/commons/thumb/1/12/South_Korea_subway_logo.svg/75px-South_Korea_subway_logo.svg.png\" srcset=\"//upload.wikimedia.org/wikipedia/commons/thumb/1/12/South_Korea_subway_logo.svg/113px-South_Korea_subway_logo.svg.png 1.5x, //upload.wikimedia.org/wikipedia/commons/thumb/1/12/South_Korea_subway_logo.svg/150px-South_Korea_subway_logo.svg.png 2x\" width=\"75\"/></a>, <a class=\"image\" href=\"/wiki/File:Seoul-Metro-2004-20070722.jpg\"><img alt=\"Seoul-Metro-2004-20070722.jpg\" data-file-height=\"2100\" data-file-width=\"2800\" decoding=\"async\" height=\"225\" src=\"//upload.wikimedia.org/wikipedia/commons/thumb/2/29/Seoul-Metro-2004-20070722.jpg/300px-Seoul-Metro-2004-20070722.jpg\" srcset=\"//upload.wikimedia.org/wikipedia/commons/thumb/2/29/Seoul-Metro-2004-20070722.jpg/450px-Seoul-Metro-2004-20070722.jpg 1.5x, //upload.wikimedia.org/wikipedia/commons/thumb/2/29/Seoul-Metro-2004-20070722.jpg/600px-Seoul-Metro-2004-20070722.jpg 2x\" width=\"300\"/></a>, <a href=\"/wiki/Government_of_South_Korea\" title=\"Government of South Korea\">Government of South Korea</a>]\n"
     ]
    }
   ],
   "source": [
    "import re\n",
    "import requests\n",
    "from bs4 import BeautifulSoup\n",
    "\n",
    "url = \"https://en.wikipedia.org/wiki/Seoul_Metropolitan_Subway\"\n",
    "resp = requests.get(url)\n",
    "html_src = resp.text\n",
    "soup = BeautifulSoup(html_src,'html.parser')\n",
    "\n",
    "links = soup.find_all(\"a\")\n",
    "print('하이퍼링크의 갯수:', len(links))\n",
    "print('첫 3개의 원소:',links[:3])\n",
    "print('\\n')\n",
    "# /wiki/ 문자열이 포함된 링크 \n",
    "wiki_links = soup.find_all(name='a',href=re.compile(\"/wiki/\"),limit=3)\n",
    "print(wiki_links)"
   ]
  },
  {
   "cell_type": "code",
   "execution_count": 74,
   "metadata": {},
   "outputs": [
    {
     "name": "stdout",
     "output_type": "stream",
     "text": [
      "콜론이 포함된 링크가 제외된 하이퍼링크 : [<a href=\"/wiki/Government_of_South_Korea\" title=\"Government of South Korea\">Government of South Korea</a>, <a href=\"/wiki/Seoul_Metropolitan_Government\" title=\"Seoul Metropolitan Government\">Seoul Metropolitan Government</a>, <a href=\"/wiki/Incheon\" title=\"Incheon\">Incheon Metropolitan City</a>]\n"
     ]
    }
   ],
   "source": [
    "# 콜론이 포함된 링크 제외\n",
    "wiki_links = soup.find_all(name='a',href=re.compile(\"^/wiki/((?!:).)*$\"),limit=3)\n",
    "print('콜론이 포함된 링크가 제외된 하이퍼링크 :',wiki_links)\n",
    "\n",
    "# ^ 시작은 WIKI로 시작, 콜론이 없는거로 모든게 나오고, $ 끝\n",
    "# # ?! : 부정형 전방탐색\n",
    "# https://blog.hexabrain.net/205\n"
   ]
  },
  {
   "cell_type": "markdown",
   "metadata": {},
   "source": [
    " \n"
   ]
  },
  {
   "cell_type": "code",
   "execution_count": 75,
   "metadata": {},
   "outputs": [
    {
     "name": "stdout",
     "output_type": "stream",
     "text": [
      "body\n",
      "br\n",
      "br\n",
      "br\n",
      "b\n",
      "b\n",
      "b\n",
      "b\n",
      "b\n",
      "b\n",
      "b\n",
      "b\n",
      "b\n",
      "b\n",
      "b\n",
      "b\n",
      "b\n",
      "b\n",
      "b\n",
      "b\n",
      "b\n",
      "b\n",
      "b\n",
      "b\n",
      "b\n",
      "b\n",
      "b\n",
      "b\n",
      "b\n",
      "b\n",
      "b\n",
      "b\n",
      "b\n",
      "b\n",
      "b\n",
      "b\n",
      "b\n",
      "b\n",
      "b\n",
      "b\n",
      "b\n",
      "b\n",
      "b\n",
      "b\n",
      "b\n",
      "bdi\n",
      "b\n",
      "b\n",
      "b\n",
      "b\n",
      "b\n",
      "b\n",
      "b\n",
      "b\n",
      "b\n",
      "b\n",
      "b\n",
      "b\n",
      "b\n",
      "b\n",
      "b\n",
      "b\n",
      "b\n",
      "b\n",
      "b\n",
      "b\n",
      "b\n",
      "b\n",
      "b\n",
      "b\n",
      "b\n",
      "b\n",
      "b\n",
      "b\n",
      "b\n",
      "b\n",
      "b\n",
      "b\n",
      "b\n",
      "b\n",
      "b\n",
      "b\n",
      "br\n",
      "br\n",
      "html\n",
      "meta\n",
      "title\n",
      "script\n",
      "script\n",
      "script\n",
      "meta\n",
      "meta\n",
      "meta\n",
      "meta\n",
      "meta\n",
      "meta\n",
      "table\n",
      "caption\n",
      "tbody\n",
      "tr\n",
      "td\n",
      "tr\n",
      "td\n",
      "tr\n",
      "th\n",
      "tr\n",
      "th\n",
      "td\n",
      "tr\n",
      "th\n",
      "td\n",
      "tr\n",
      "th\n",
      "td\n",
      "tr\n",
      "th\n",
      "td\n",
      "tr\n",
      "th\n",
      "td\n",
      "tr\n",
      "th\n",
      "td\n",
      "tr\n",
      "th\n",
      "td\n",
      "tr\n",
      "th\n",
      "tr\n",
      "th\n",
      "td\n",
      "tr\n",
      "th\n",
      "td\n",
      "tr\n",
      "th\n",
      "tr\n",
      "th\n",
      "td\n",
      "tr\n",
      "th\n",
      "td\n",
      "table\n",
      "tbody\n",
      "tr\n",
      "td\n",
      "tr\n",
      "th\n",
      "td\n",
      "tr\n",
      "th\n",
      "td\n",
      "tr\n",
      "th\n",
      "td\n",
      "tr\n",
      "th\n",
      "td\n",
      "input\n",
      "table\n",
      "tbody\n",
      "tr\n",
      "th\n",
      "th\n",
      "th\n",
      "th\n",
      "th\n",
      "th\n",
      "th\n",
      "th\n",
      "tr\n",
      "td\n",
      "td\n",
      "td\n",
      "td\n",
      "td\n",
      "td\n",
      "td\n",
      "td\n",
      "td\n",
      "tr\n",
      "td\n",
      "td\n",
      "td\n",
      "td\n",
      "td\n",
      "td\n",
      "td\n",
      "td\n",
      "td\n",
      "tr\n",
      "td\n",
      "td\n",
      "td\n",
      "td\n",
      "td\n",
      "td\n",
      "td\n",
      "td\n",
      "td\n",
      "tr\n",
      "td\n",
      "td\n",
      "td\n",
      "td\n",
      "td\n",
      "td\n",
      "td\n",
      "td\n",
      "tr\n",
      "td\n",
      "td\n",
      "td\n",
      "td\n",
      "td\n",
      "td\n",
      "td\n",
      "td\n",
      "td\n",
      "tr\n",
      "td\n",
      "td\n",
      "td\n",
      "td\n",
      "td\n",
      "td\n",
      "td\n",
      "td\n",
      "tr\n",
      "td\n",
      "td\n",
      "td\n",
      "td\n",
      "td\n",
      "td\n",
      "td\n",
      "td\n",
      "tr\n",
      "td\n",
      "td\n",
      "td\n",
      "td\n",
      "td\n",
      "td\n",
      "td\n",
      "td\n",
      "tr\n",
      "td\n",
      "td\n",
      "td\n",
      "td\n",
      "td\n",
      "td\n",
      "td\n",
      "td\n",
      "td\n",
      "tr\n",
      "td\n",
      "td\n",
      "td\n",
      "td\n",
      "td\n",
      "td\n",
      "td\n",
      "td\n",
      "td\n",
      "tr\n",
      "td\n",
      "td\n",
      "td\n",
      "td\n",
      "td\n",
      "td\n",
      "td\n",
      "td\n",
      "td\n",
      "tr\n",
      "td\n",
      "td\n",
      "td\n",
      "td\n",
      "td\n",
      "td\n",
      "td\n",
      "td\n",
      "td\n",
      "tr\n",
      "td\n",
      "td\n",
      "td\n",
      "td\n",
      "td\n",
      "td\n",
      "td\n",
      "td\n",
      "td\n",
      "tr\n",
      "td\n",
      "td\n",
      "td\n",
      "td\n",
      "td\n",
      "td\n",
      "td\n",
      "td\n",
      "td\n",
      "tr\n",
      "td\n",
      "td\n",
      "td\n",
      "td\n",
      "td\n",
      "td\n",
      "td\n",
      "td\n",
      "td\n",
      "tr\n",
      "td\n",
      "td\n",
      "td\n",
      "td\n",
      "td\n",
      "td\n",
      "td\n",
      "td\n",
      "td\n",
      "tr\n",
      "td\n",
      "td\n",
      "td\n",
      "td\n",
      "td\n",
      "td\n",
      "td\n",
      "td\n",
      "td\n",
      "tr\n",
      "td\n",
      "td\n",
      "td\n",
      "td\n",
      "td\n",
      "td\n",
      "td\n",
      "td\n",
      "td\n",
      "tr\n",
      "td\n",
      "td\n",
      "td\n",
      "td\n",
      "td\n",
      "td\n",
      "td\n",
      "td\n",
      "td\n",
      "tr\n",
      "td\n",
      "td\n",
      "td\n",
      "td\n",
      "td\n",
      "td\n",
      "td\n",
      "td\n",
      "td\n",
      "tr\n",
      "td\n",
      "td\n",
      "td\n",
      "td\n",
      "td\n",
      "td\n",
      "td\n",
      "td\n",
      "td\n",
      "tr\n",
      "td\n",
      "td\n",
      "td\n",
      "td\n",
      "td\n",
      "td\n",
      "td\n",
      "td\n",
      "td\n",
      "cite\n",
      "style\n",
      "cite\n",
      "cite\n",
      "cite\n",
      "cite\n",
      "cite\n",
      "cite\n",
      "cite\n",
      "cite\n",
      "cite\n",
      "cite\n",
      "cite\n",
      "cite\n",
      "cite\n",
      "cite\n",
      "cite\n",
      "cite\n",
      "cite\n",
      "cite\n",
      "cite\n",
      "cite\n",
      "cite\n",
      "cite\n",
      "cite\n",
      "cite\n",
      "cite\n",
      "cite\n",
      "cite\n",
      "cite\n",
      "cite\n",
      "cite\n",
      "cite\n",
      "cite\n",
      "cite\n",
      "cite\n",
      "cite\n",
      "cite\n",
      "cite\n",
      "cite\n",
      "cite\n",
      "cite\n",
      "cite\n",
      "cite\n",
      "cite\n",
      "cite\n",
      "cite\n",
      "cite\n",
      "cite\n",
      "cite\n",
      "cite\n",
      "table\n",
      "tbody\n",
      "tr\n",
      "td\n",
      "td\n",
      "table\n",
      "tbody\n",
      "tr\n",
      "th\n",
      "tr\n",
      "th\n",
      "td\n",
      "table\n",
      "tbody\n",
      "tr\n",
      "th\n",
      "td\n",
      "tr\n",
      "th\n",
      "td\n",
      "tr\n",
      "th\n",
      "td\n",
      "tr\n",
      "th\n",
      "td\n",
      "tr\n",
      "th\n",
      "td\n",
      "tr\n",
      "th\n",
      "td\n",
      "tr\n",
      "th\n",
      "td\n",
      "tr\n",
      "th\n",
      "td\n",
      "tr\n",
      "th\n",
      "td\n",
      "tr\n",
      "th\n",
      "td\n",
      "table\n",
      "tbody\n",
      "tr\n",
      "th\n",
      "td\n",
      "tr\n",
      "th\n",
      "td\n",
      "tr\n",
      "th\n",
      "td\n",
      "tr\n",
      "th\n",
      "td\n",
      "tr\n",
      "th\n",
      "td\n",
      "tr\n",
      "th\n",
      "td\n",
      "table\n",
      "tbody\n",
      "tr\n",
      "th\n",
      "td\n",
      "tr\n",
      "th\n",
      "td\n",
      "tr\n",
      "th\n",
      "td\n",
      "table\n",
      "tbody\n",
      "tr\n",
      "td\n",
      "tr\n",
      "th\n",
      "td\n",
      "table\n",
      "tbody\n",
      "tr\n",
      "td\n",
      "table\n",
      "tbody\n",
      "tr\n",
      "th\n",
      "tr\n",
      "th\n",
      "td\n",
      "table\n",
      "tbody\n",
      "tr\n",
      "th\n",
      "td\n",
      "table\n",
      "tbody\n",
      "tr\n",
      "th\n",
      "td\n",
      "tr\n",
      "th\n",
      "td\n",
      "tr\n",
      "th\n",
      "td\n",
      "tr\n",
      "th\n",
      "td\n",
      "tr\n",
      "th\n",
      "td\n",
      "table\n",
      "tbody\n",
      "tr\n",
      "th\n",
      "td\n",
      "tr\n",
      "th\n",
      "td\n",
      "tr\n",
      "th\n",
      "td\n",
      "tr\n",
      "th\n",
      "td\n",
      "tr\n",
      "th\n",
      "td\n",
      "tr\n",
      "th\n",
      "td\n",
      "noscript\n",
      "input\n",
      "input\n",
      "input\n",
      "input\n",
      "input\n",
      "input\n",
      "footer\n",
      "script\n",
      "script\n",
      "script\n"
     ]
    }
   ],
   "source": [
    "# 정규 표현식 객체를 건네면,  match() 메쏘드를 사용하여 그 정규 표현식에 맞게 여과한다. \n",
    "\n",
    "# 다음 코드는 이름이 “b”로 시작하는 태그를 모두 찾는다; 이 경우, <body> 태그와 <b> 태그를 찾을 것이다:\n",
    "\n",
    "import re\n",
    "for tag in soup.find_all(re.compile(\"^b\")):\n",
    "    print(tag.name)\n",
    "# body\n",
    "# b\n",
    "\n",
    "#다음 코드는 이름에 ‘t’가 포함된 태그를 모두 찾는다:\n",
    "\n",
    "for tag in soup.find_all(re.compile(\"t\")):\n",
    "    print(tag.name)\n",
    "# html\n",
    "# title\n"
   ]
  },
  {
   "cell_type": "code",
   "execution_count": 76,
   "metadata": {},
   "outputs": [],
   "source": [
    "# bs4 라이브러리 안에도 정규표현식이 사용되고 있다\n",
    "# C:\\ProgramData\\Anaconda3\\Lib\\site-packages\\bs4\\_htmlparser.py\n",
    "# XXX This code can be removed once most Python 3 users are on 3.2.3.\n",
    "# if major == 3 and minor == 2 and not CONSTRUCTOR_TAKES_STRICT:\n",
    "#     import re\n",
    "#     attrfind_tolerant = re.compile(\n",
    "#         r'\\s*((?<=[\\'\"\\s])[^\\s/>][^\\s/=>]*)(\\s*=+\\s*'\n",
    "#시작이 0개 이상 그룹으로 묶고, ?<= 는, 긍정 탐색이 있고, [] 이 안에 글자들이 하나 이상 있고 []이안에것들이 아닌것이 나오고 등등...\n",
    "#         r'(\\'[^\\']*\\'|\"[^\"]*\"|(?![\\'\"])[^>\\s]*))?')\n",
    "#     HTMLParserTreeBuilder.attrfind_tolerant = attrfind_tolerant\n",
    "\n",
    "#     locatestarttagend = re.compile(r\"\"\"\n",
    "#   <[a-zA-Z][-.a-zA-Z0-9:_]*          # tag name\n",
    "#   (?:\\s+                             # whitespace before attribute name\n",
    "#     (?:[a-zA-Z_][-.:a-zA-Z0-9_]*     # attribute name\n",
    "#       (?:\\s*=\\s*                     # value indicator\n",
    "#         (?:'[^']*'                   # LITA-enclosed value\n",
    "#           |\\\"[^\\\"]*\\\"                # LIT-enclosed value\n",
    "#           |[^'\\\">\\s]+                # bare value\n",
    "#          )\n",
    "#        )?\n",
    "#      )\n",
    "#    )*\n",
    "#   \\s*                                # trailing whitespace\n"
   ]
  },
  {
   "cell_type": "code",
   "execution_count": 77,
   "metadata": {},
   "outputs": [
    {
     "name": "stdout",
     "output_type": "stream",
     "text": [
      "10 20\n",
      "{'depth': 5, 'dimension': 7, 'a': 10, 'href': '/wiki/'} <class 'dict'>\n",
      "1 2\n",
      "{'depth': 3, 'dimension': 3} <class 'dict'>\n"
     ]
    }
   ],
   "source": [
    "# soup.find_all(\n",
    "#     name=None,\n",
    "#     attrs={},\n",
    "#     recursive=True,\n",
    "#     text=None,\n",
    "#     limit=None,\n",
    "#     **kwargs,\n",
    "# )\n",
    "\n",
    "# **kwargs : 키워드 인수\n",
    "#  dict형식\n",
    "def func(width,height,**kw):\n",
    "    print(width,height)\n",
    "    print(kw,type(kw)) \n",
    "    \n",
    "func(width=10,height=20,depth=5,dimension=7,a =10,href='/wiki/')  #kw 는 depth 이후부터\n",
    "func(1,2,depth=3,dimension=3) \n"
   ]
  },
  {
   "cell_type": "code",
   "execution_count": null,
   "metadata": {},
   "outputs": [],
   "source": []
  }
 ],
 "metadata": {
  "kernelspec": {
   "display_name": "Python 3",
   "language": "python",
   "name": "python3"
  },
  "language_info": {
   "codemirror_mode": {
    "name": "ipython",
    "version": 3
   },
   "file_extension": ".py",
   "mimetype": "text/x-python",
   "name": "python",
   "nbconvert_exporter": "python",
   "pygments_lexer": "ipython3",
   "version": "3.8.3"
  }
 },
 "nbformat": 4,
 "nbformat_minor": 4
}
