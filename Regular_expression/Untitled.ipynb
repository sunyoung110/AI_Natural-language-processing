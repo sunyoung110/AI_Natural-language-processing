{
 "cells": [
  {
   "cell_type": "markdown",
   "metadata": {},
   "source": [
    "# 파이썬 정규 표현식 (Regular Expressions)\n",
    ": 문자열 패턴 검색, 추출, 대치하는 규칙을 정의하는 문자열.\n",
    "- 파이썬에서는 re 모듈이 제공"
   ]
  },
  {
   "cell_type": "markdown",
   "metadata": {},
   "source": [
    "## (1) 반복 관련 메타 문자 : *, +, ?, {m}, {m,n}\n",
    "### 메타 문자란, 원래 그 문자가 가진 뜻이 아닌 특별한 용도로 사용하는 문자를 말한다.\n",
    "- *는 반복 메타문자. 해당 메타문자 앞의 글자가 0번 이상 반복\n",
    "- +는 앞의 글자가 0 번을 제외한, 1번 이상 반복되는 모든 문자열과 매치 \n",
    "- ? 는 앞의문자가 0-1번 반복되는 모든 문자열과 매치 \n",
    "- {m}은 반복횟수를 m로 정할 수 있다. 앞의 문자가 m번 이상 반복되는 모든 문자열과 매치\n",
    "- [m,n}은 반복횟수를 m과 n으로 정할 수 있다. m번 이상 n번 이하 반복\n"
   ]
  },
  {
   "cell_type": "code",
   "execution_count": null,
   "metadata": {},
   "outputs": [],
   "source": [
    "## (2) 매칭 관련 메타 문자"
   ]
  }
 ],
 "metadata": {
  "kernelspec": {
   "display_name": "Python 3",
   "language": "python",
   "name": "python3"
  },
  "language_info": {
   "codemirror_mode": {
    "name": "ipython",
    "version": 3
   },
   "file_extension": ".py",
   "mimetype": "text/x-python",
   "name": "python",
   "nbconvert_exporter": "python",
   "pygments_lexer": "ipython3",
   "version": "3.8.3"
  }
 },
 "nbformat": 4,
 "nbformat_minor": 4
}
